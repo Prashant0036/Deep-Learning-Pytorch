{
 "cells": [
  {
   "cell_type": "markdown",
   "id": "5a58001c",
   "metadata": {},
   "source": [
    "## Indexing (selecting data from tensors)\n",
    "Indexing with PyTorch is similar to indexing with NumPy."
   ]
  },
  {
   "cell_type": "code",
   "execution_count": 1,
   "id": "1e18d91f",
   "metadata": {},
   "outputs": [
    {
     "data": {
      "text/plain": [
       "(tensor([[[1, 2, 3],\n",
       "          [4, 5, 6],\n",
       "          [7, 8, 9]]]),\n",
       " torch.Size([1, 3, 3]))"
      ]
     },
     "execution_count": 1,
     "metadata": {},
     "output_type": "execute_result"
    }
   ],
   "source": [
    " # Create a tensor\n",
    "import torch\n",
    "x = torch.arange (1, 10).reshape (1, 3, 3)\n",
    "x, x.shape"
   ]
  },
  {
   "cell_type": "code",
   "execution_count": 2,
   "id": "5b61f8d0",
   "metadata": {},
   "outputs": [
    {
     "data": {
      "text/plain": [
       "tensor([[1, 2, 3],\n",
       "        [4, 5, 6],\n",
       "        [7, 8, 9]])"
      ]
     },
     "execution_count": 2,
     "metadata": {},
     "output_type": "execute_result"
    }
   ],
   "source": [
    "# Let's index on our new tensor\n",
    "x[0]"
   ]
  },
  {
   "cell_type": "code",
   "execution_count": 3,
   "id": "48a4a2f0",
   "metadata": {},
   "outputs": [
    {
     "data": {
      "text/plain": [
       "tensor([1, 2, 3])"
      ]
     },
     "execution_count": 3,
     "metadata": {},
     "output_type": "execute_result"
    }
   ],
   "source": [
    "# Let's index on middle bracket (dim=1)\n",
    "x[0][0]"
   ]
  },
  {
   "cell_type": "code",
   "execution_count": 4,
   "id": "778c4ac6",
   "metadata": {},
   "outputs": [
    {
     "data": {
      "text/plain": [
       "tensor(1)"
      ]
     },
     "execution_count": 4,
     "metadata": {},
     "output_type": "execute_result"
    }
   ],
   "source": [
    "# Let's index on most inner bracket (last dimension)\n",
    "x[0][0][0]"
   ]
  },
  {
   "cell_type": "code",
   "execution_count": 5,
   "id": "417a2976",
   "metadata": {},
   "outputs": [
    {
     "data": {
      "text/plain": [
       "tensor([[1, 2, 3]])"
      ]
     },
     "execution_count": 5,
     "metadata": {},
     "output_type": "execute_result"
    }
   ],
   "source": [
    "# You can also use \":\" to select \"all\" of a target dimension\n",
    "x[:, 0]"
   ]
  },
  {
   "cell_type": "code",
   "execution_count": 6,
   "id": "7a914070",
   "metadata": {},
   "outputs": [
    {
     "data": {
      "text/plain": [
       "tensor([[2, 5, 8]])"
      ]
     },
     "execution_count": 6,
     "metadata": {},
     "output_type": "execute_result"
    }
   ],
   "source": [
    "# Get all values of 0th and 1st dimensions but only index 1 of 2nd dimension\n",
    "x[:, :, 1]"
   ]
  },
  {
   "cell_type": "code",
   "execution_count": 7,
   "id": "81826918",
   "metadata": {},
   "outputs": [
    {
     "data": {
      "text/plain": [
       "tensor(5)"
      ]
     },
     "execution_count": 7,
     "metadata": {},
     "output_type": "execute_result"
    }
   ],
   "source": [
    "# Get all values of the 0 dimension but only the 1 index value of 1st and 2nd dimension\n",
    "x[0, 1, 1]"
   ]
  },
  {
   "cell_type": "markdown",
   "id": "abaa69bd",
   "metadata": {},
   "source": [
    "# PyTorch tensors & NumPy"
   ]
  },
  {
   "cell_type": "markdown",
   "id": "f7e996d8",
   "metadata": {},
   "source": [
    "NumPy is a popular scientific Python numerical computing library.\n",
    "\n",
    "And because of this, PyTorch has functionality to interact with it.\n",
    "* Data in NumPy, want in PyTorch tensor -> torch. from_numpy (ndarray)\n",
    "* PyTorch tensor -> NumPy -> torch.Tensor.numpy ()\n"
   ]
  },
  {
   "cell_type": "code",
   "execution_count": 12,
   "id": "6da95903",
   "metadata": {},
   "outputs": [
    {
     "data": {
      "text/plain": [
       "(array([1., 2., 3., 4., 5., 6., 7.]),\n",
       " tensor([1., 2., 3., 4., 5., 6., 7.], dtype=torch.float64))"
      ]
     },
     "execution_count": 12,
     "metadata": {},
     "output_type": "execute_result"
    }
   ],
   "source": [
    "#NumPy array to tensor\n",
    "import torch\n",
    "import numpy as np\n",
    "array = np.arange (1.0, 8.0)\n",
    "tensor = torch.from_numpy(array) \n",
    "# warning: when converting from numpy -> pytorch, \n",
    "# pytorch reflects numpy's default datatype of float 64 unless specified otherwise\n",
    "array, tensor"
   ]
  },
  {
   "cell_type": "code",
   "execution_count": 18,
   "id": "1ddc8e7f",
   "metadata": {},
   "outputs": [
    {
     "data": {
      "text/plain": [
       "(dtype('float64'), torch.float32)"
      ]
     },
     "execution_count": 18,
     "metadata": {},
     "output_type": "execute_result"
    }
   ],
   "source": [
    "array.dtype,tensor.dtype"
   ]
  },
  {
   "cell_type": "code",
   "execution_count": 13,
   "id": "2c343b93",
   "metadata": {},
   "outputs": [
    {
     "data": {
      "text/plain": [
       "(array([2., 3., 4., 5., 6., 7., 8.]),\n",
       " tensor([1., 2., 3., 4., 5., 6., 7.], dtype=torch.float64))"
      ]
     },
     "execution_count": 13,
     "metadata": {},
     "output_type": "execute_result"
    }
   ],
   "source": [
    "# Change the value of array, what will this do to “tensor?\n",
    "array = array + 1\n",
    "array,tensor    #modification in base array doesn't reflect in newly formed tensor."
   ]
  },
  {
   "cell_type": "code",
   "execution_count": 14,
   "id": "94b37409",
   "metadata": {},
   "outputs": [
    {
     "data": {
      "text/plain": [
       "array([1., 1., 1., 1., 1., 1., 1.], dtype=float32)"
      ]
     },
     "execution_count": 14,
     "metadata": {},
     "output_type": "execute_result"
    }
   ],
   "source": [
    "# Tensor to NumPy array\n",
    "tensor = torch.ones (7)\n",
    "numpy_tensor = torch.Tensor.numpy(tensor)\n",
    "numpy_tensor"
   ]
  },
  {
   "cell_type": "code",
   "execution_count": 16,
   "id": "15a51454",
   "metadata": {},
   "outputs": [
    {
     "data": {
      "text/plain": [
       "(dtype('float32'), torch.float32)"
      ]
     },
     "execution_count": 16,
     "metadata": {},
     "output_type": "execute_result"
    }
   ],
   "source": [
    "numpy_tensor.dtype,tensor.dtype"
   ]
  },
  {
   "cell_type": "code",
   "execution_count": 19,
   "id": "71733847",
   "metadata": {},
   "outputs": [
    {
     "data": {
      "text/plain": [
       "(tensor([2., 2., 2., 2., 2., 2., 2.]),\n",
       " array([1., 1., 1., 1., 1., 1., 1.], dtype=float32))"
      ]
     },
     "execution_count": 19,
     "metadata": {},
     "output_type": "execute_result"
    }
   ],
   "source": [
    "# Change the tesnor, what happens to “numpy_tensor’?\n",
    "tensor = tensor + 1\n",
    "tensor, numpy_tensor\n",
    "#modification in base tensor doesn't reflect in newly formed array."
   ]
  },
  {
   "cell_type": "markdown",
   "id": "97302fa7",
   "metadata": {},
   "source": [
    "## Reproducbility (trying to take random out of random)"
   ]
  },
  {
   "cell_type": "markdown",
   "id": "78b6697f",
   "metadata": {},
   "source": [
    " * In short how a neural network learns:\n",
    "\n",
    "* “start with random numbers -> tensor operations -> update random numbers to try and\n",
    " make them better representations of the data -> again -> again -> again...\"\n",
    "\n",
    "* To reduce the randomness in neural networks and PyTorch comes the concept of a\n",
    "\"random seeds\".\n",
    "\n",
    "* Essentially what the random seed does is \"flavour\" the randomness.\n",
    "\n"
   ]
  },
  {
   "cell_type": "code",
   "execution_count": 22,
   "id": "3bf14270",
   "metadata": {},
   "outputs": [
    {
     "data": {
      "text/plain": [
       "tensor([[0.9119, 0.7722, 0.1620, 0.0827],\n",
       "        [0.7169, 0.6130, 0.3611, 0.2599],\n",
       "        [0.4824, 0.5682, 0.4703, 0.2585]])"
      ]
     },
     "execution_count": 22,
     "metadata": {},
     "output_type": "execute_result"
    }
   ],
   "source": [
    "torch.rand(3,4) #It will produce a [3 X 4] matrix of random numbers every time it executed."
   ]
  },
  {
   "cell_type": "code",
   "execution_count": 26,
   "id": "9afbca32",
   "metadata": {},
   "outputs": [
    {
     "name": "stdout",
     "output_type": "stream",
     "text": [
      "tensor([[0.4976, 0.4263, 0.0301, 0.3668],\n",
      "        [0.2266, 0.6256, 0.0215, 0.2184],\n",
      "        [0.5903, 0.5593, 0.2108, 0.9640]])\n",
      "tensor([[0.1452, 0.4641, 0.9223, 0.9596],\n",
      "        [0.8330, 0.0660, 0.1284, 0.1746],\n",
      "        [0.6936, 0.6821, 0.2770, 0.6925]])\n",
      "tensor([[False, False, False, False],\n",
      "        [False, False, False, False],\n",
      "        [False, False, False, False]])\n"
     ]
    }
   ],
   "source": [
    "# Create two random tensors\n",
    "\n",
    "random_tensor_A = torch.rand(3, 4)\n",
    "random_tensor_B = torch.rand(3, 4)\n",
    "\n",
    "print(random_tensor_A)\n",
    "\n",
    "print(random_tensor_B)\n",
    "\n",
    "print(random_tensor_A == random_tensor_B)\n"
   ]
  },
  {
   "cell_type": "code",
   "execution_count": 32,
   "id": "117df362",
   "metadata": {},
   "outputs": [
    {
     "data": {
      "text/plain": [
       "tensor([[True, True, True, True],\n",
       "        [True, True, True, True],\n",
       "        [True, True, True, True]])"
      ]
     },
     "execution_count": 32,
     "metadata": {},
     "output_type": "execute_result"
    }
   ],
   "source": [
    "# Let's make some random but reproducible tensors\n",
    "\n",
    "# Set the random seed\n",
    "\n",
    "RANDOM_SEED = 42\n",
    "\n",
    "torch.manual_seed(RANDOM_SEED)\n",
    "random_tensor_C =torch.rand(3, 4)\n",
    "\n",
    "torch.manual_seed(RANDOM_SEED)\n",
    "random_tensor_D = torch.rand(3, 4)\n",
    "\n",
    "random_tensor_C == random_tensor_D\n",
    "\n",
    "# After selecting a manual seed it will produce same number.\n",
    "# it is called a seed bcoz we can produce some same number with the help of it, "
   ]
  },
  {
   "cell_type": "code",
   "execution_count": null,
   "id": "0f900bd0",
   "metadata": {},
   "outputs": [],
   "source": []
  },
  {
   "cell_type": "code",
   "execution_count": null,
   "id": "6b4692a5",
   "metadata": {},
   "outputs": [],
   "source": []
  }
 ],
 "metadata": {
  "kernelspec": {
   "display_name": "Python 3 (ipykernel)",
   "language": "python",
   "name": "python3"
  },
  "language_info": {
   "codemirror_mode": {
    "name": "ipython",
    "version": 3
   },
   "file_extension": ".py",
   "mimetype": "text/x-python",
   "name": "python",
   "nbconvert_exporter": "python",
   "pygments_lexer": "ipython3",
   "version": "3.10.9"
  }
 },
 "nbformat": 4,
 "nbformat_minor": 5
}
