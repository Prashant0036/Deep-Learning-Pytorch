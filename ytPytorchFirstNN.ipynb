{
 "cells": [
  {
   "cell_type": "code",
   "execution_count": 23,
   "id": "08516862",
   "metadata": {},
   "outputs": [
    {
     "data": {
      "text/plain": [
       "'2.0.0'"
      ]
     },
     "execution_count": 23,
     "metadata": {},
     "output_type": "execute_result"
    }
   ],
   "source": [
    "import torch\n",
    "from torch import nn # nn contains all of PyTorch's building blocks for neural networks\n",
    "import matplotlib.pyplot as plt\n",
    "import numpy as np\n",
    "from torch.autograd import Variable\n",
    "# Check PyTorch version\n",
    "torch.__version__"
   ]
  },
  {
   "cell_type": "markdown",
   "id": "232308ae",
   "metadata": {},
   "source": [
    "## Creating data for our neural network"
   ]
  },
  {
   "cell_type": "code",
   "execution_count": 24,
   "id": "d9cbd7e6",
   "metadata": {},
   "outputs": [],
   "source": [
    "def get_data():\n",
    "    train_X=np.asarray([3.3,4.4,5.5,6.71,6.93,4.168,9.779,6.182,7.59,2.167,7.042,10.791,5.313,7.997,5.654,9.27,3.1])\n",
    "    train_Y=np.asarray([1.7,2.76,2.09,3.19,1.694,1.573,3.366,2.596,2.53,1.221,2.827,3.465,1.65,2.904,2.42,2.94,1.3])\n",
    "    dtype=torch.FloatTensor\n",
    "    #tensor = torch.from_numpy(array) \n",
    "    # warning: when converting from numpy -> pytorch, \n",
    "    # pytorch reflects numpy's default datatype of float 64 unless specified otherwise\n",
    "    X=Variable(torch.from_numpy(train_X).type(dtype),requires_grad=False).view(17,1)\n",
    "    y=Variable(torch.from_numpy(train_Y).type(dtype),requires_grad=False)\n",
    "    return X,y\n",
    "    "
   ]
  },
  {
   "cell_type": "code",
   "execution_count": 25,
   "id": "97807595",
   "metadata": {},
   "outputs": [],
   "source": [
    "X,y = get_data()"
   ]
  },
  {
   "cell_type": "code",
   "execution_count": 26,
   "id": "d87bf4f2",
   "metadata": {},
   "outputs": [
    {
     "data": {
      "text/plain": [
       "(tensor([[ 3.3000],\n",
       "         [ 4.4000],\n",
       "         [ 5.5000],\n",
       "         [ 6.7100],\n",
       "         [ 6.9300],\n",
       "         [ 4.1680],\n",
       "         [ 9.7790],\n",
       "         [ 6.1820],\n",
       "         [ 7.5900],\n",
       "         [ 2.1670],\n",
       "         [ 7.0420],\n",
       "         [10.7910],\n",
       "         [ 5.3130],\n",
       "         [ 7.9970],\n",
       "         [ 5.6540],\n",
       "         [ 9.2700],\n",
       "         [ 3.1000]]),\n",
       " tensor([1.7000, 2.7600, 2.0900, 3.1900, 1.6940, 1.5730, 3.3660, 2.5960, 2.5300,\n",
       "         1.2210, 2.8270, 3.4650, 1.6500, 2.9040, 2.4200, 2.9400, 1.3000]))"
      ]
     },
     "execution_count": 26,
     "metadata": {},
     "output_type": "execute_result"
    }
   ],
   "source": [
    "X,y"
   ]
  },
  {
   "cell_type": "markdown",
   "id": "bb37b478",
   "metadata": {},
   "source": [
    "## Creating learnable parameters "
   ]
  },
  {
   "cell_type": "code",
   "execution_count": 27,
   "id": "76a1434a",
   "metadata": {},
   "outputs": [],
   "source": [
    "def get_weights():\n",
    "    w=Variable(torch.randn(1),requires_grad=True )\n",
    "    b=Variable(torch.randn(1),requires_grad=True )\n",
    "    return w,b"
   ]
  },
  {
   "cell_type": "code",
   "execution_count": 28,
   "id": "e8fee003",
   "metadata": {},
   "outputs": [
    {
     "data": {
      "text/plain": [
       "(tensor([0.8386], requires_grad=True), tensor([1.9043], requires_grad=True))"
      ]
     },
     "execution_count": 28,
     "metadata": {},
     "output_type": "execute_result"
    }
   ],
   "source": [
    "w,b=get_weights()\n",
    "w,b"
   ]
  },
  {
   "cell_type": "markdown",
   "id": "20c66a89",
   "metadata": {},
   "source": [
    "## Network Implementation"
   ]
  },
  {
   "cell_type": "code",
   "execution_count": 29,
   "id": "2c040bf6",
   "metadata": {},
   "outputs": [],
   "source": [
    "def simple_network(x):\n",
    "    y_pred=torch.matmul(x,w)+b\n",
    "    return y_pred"
   ]
  },
  {
   "cell_type": "code",
   "execution_count": 30,
   "id": "9b9f7b90",
   "metadata": {},
   "outputs": [
    {
     "data": {
      "text/plain": [
       "tensor([ 4.6716,  5.5941,  6.5165,  7.5312,  7.7157,  5.3995, 10.1048,  7.0884,\n",
       "         8.2691,  3.7215,  7.8096, 10.9535,  6.3597,  8.6105,  6.6456,  9.6780,\n",
       "         4.5039], grad_fn=<AddBackward0>)"
      ]
     },
     "execution_count": 30,
     "metadata": {},
     "output_type": "execute_result"
    }
   ],
   "source": [
    "y_pred=simple_network(X)\n",
    "y_pred"
   ]
  },
  {
   "cell_type": "markdown",
   "id": "620a1985",
   "metadata": {},
   "source": [
    "## Loss function"
   ]
  },
  {
   "cell_type": "markdown",
   "id": "9d1e047c",
   "metadata": {},
   "source": [
    "#### We need to define a function which tells the model how close its predictions are to the actual values. Since this is a regression problem, we use a loss function called sum of squared error. We take the difference between the predicted y and the actual y and square it. SSE helps the model to understand how close the predicted Values are to the actual values."
   ]
  },
  {
   "cell_type": "code",
   "execution_count": 31,
   "id": "88c2af84",
   "metadata": {},
   "outputs": [],
   "source": [
    "def loss_fn(y,y_pred):\n",
    "    loss=(y_pred-y).pow(2).sum()\n",
    "    for param in [w,b]:\n",
    "        if not param.grad is None: \n",
    "            param.grad.data.zero_()\n",
    "    loss.backward()\n",
    "    return loss.item()"
   ]
  },
  {
   "cell_type": "code",
   "execution_count": 32,
   "id": "6fb5a51c",
   "metadata": {},
   "outputs": [
    {
     "data": {
      "text/plain": [
       "420.1586608886719"
      ]
     },
     "execution_count": 32,
     "metadata": {},
     "output_type": "execute_result"
    }
   ],
   "source": [
    "loss_fn(y,y_pred)"
   ]
  },
  {
   "cell_type": "markdown",
   "id": "27427d04",
   "metadata": {},
   "source": [
    "## Optimize the neural network"
   ]
  },
  {
   "cell_type": "code",
   "execution_count": 33,
   "id": "17f23758",
   "metadata": {},
   "outputs": [],
   "source": [
    "def optimize(learning_rate):\n",
    "    w.data-=learning_rate * w.grad.data\n",
    "    b.data-=learning_rate * b.grad.data    \n",
    "    return w.data,b.data"
   ]
  },
  {
   "cell_type": "code",
   "execution_count": 34,
   "id": "385517ef",
   "metadata": {},
   "outputs": [
    {
     "data": {
      "text/plain": [
       "tensor([0.8386])"
      ]
     },
     "execution_count": 34,
     "metadata": {},
     "output_type": "execute_result"
    }
   ],
   "source": [
    "w.data"
   ]
  },
  {
   "cell_type": "code",
   "execution_count": 35,
   "id": "c6f9a480",
   "metadata": {},
   "outputs": [
    {
     "data": {
      "text/plain": [
       "tensor([1.9043])"
      ]
     },
     "execution_count": 35,
     "metadata": {},
     "output_type": "execute_result"
    }
   ],
   "source": [
    "b.data"
   ]
  },
  {
   "cell_type": "code",
   "execution_count": 36,
   "id": "5f87e780",
   "metadata": {},
   "outputs": [
    {
     "name": "stdout",
     "output_type": "stream",
     "text": [
      "420.1586608886719\n",
      "420.1586608886719\n",
      "420.1586608886719\n",
      "420.1586608886719\n",
      "420.1586608886719\n",
      "420.1586608886719\n",
      "420.1586608886719\n",
      "420.1586608886719\n",
      "420.1586608886719\n",
      "420.1586608886719\n"
     ]
    },
    {
     "data": {
      "text/plain": [
       "(tensor([-5588.3403]), tensor([-807.5677]))"
      ]
     },
     "execution_count": 36,
     "metadata": {},
     "output_type": "execute_result"
    }
   ],
   "source": [
    "for i in range (500):\n",
    "    y_pred =simple_network(X)\n",
    "    loss=loss_fn(y,y_pred)\n",
    "    if i%50==0:\n",
    "        print(loss)\n",
    "optimize(learning_rate=5)"
   ]
  },
  {
   "cell_type": "code",
   "execution_count": null,
   "id": "88ab8a3e",
   "metadata": {},
   "outputs": [],
   "source": []
  },
  {
   "cell_type": "markdown",
   "id": "04ed9b8c",
   "metadata": {},
   "source": [
    "## what Makes DL so Powerful,\n",
    "#### is that fact that the entire function the we wrote in previous cells can be writen in a single line of code as follows:\n"
   ]
  },
  {
   "cell_type": "code",
   "execution_count": 37,
   "id": "7d84fc6e",
   "metadata": {},
   "outputs": [],
   "source": [
    "from torch.nn import Linear\n",
    "myLayer =Linear(in_features =10,out_features =5,bias=True)"
   ]
  },
  {
   "cell_type": "code",
   "execution_count": 38,
   "id": "9a133c15",
   "metadata": {},
   "outputs": [
    {
     "data": {
      "text/plain": [
       "tensor([[ 0.0645,  0.0818,  0.0089,  0.4453, -0.4505]],\n",
       "       grad_fn=<AddmmBackward0>)"
      ]
     },
     "execution_count": 38,
     "metadata": {},
     "output_type": "execute_result"
    }
   ],
   "source": [
    "inp=Variable(torch.randn(1,10))\n",
    "myLayer=Linear(in_features =10,out_features =5,bias=True)\n",
    "myLayer(inp)"
   ]
  },
  {
   "cell_type": "code",
   "execution_count": 39,
   "id": "ed2c5fa2",
   "metadata": {},
   "outputs": [
    {
     "data": {
      "text/plain": [
       "Parameter containing:\n",
       "tensor([[ 0.1112,  0.1045, -0.0183,  0.2414, -0.1427,  0.2798,  0.2729,  0.1575,\n",
       "          0.1983,  0.2472],\n",
       "        [-0.2179, -0.2557, -0.0267, -0.0157,  0.1003, -0.0562,  0.1985, -0.1210,\n",
       "          0.2425, -0.2217],\n",
       "        [ 0.1255,  0.2703, -0.2643, -0.1421, -0.1277,  0.2168, -0.2214,  0.1792,\n",
       "         -0.1496,  0.2927],\n",
       "        [-0.0065,  0.2961, -0.2108, -0.2231,  0.1502,  0.2570,  0.3150,  0.1791,\n",
       "          0.0942,  0.1544],\n",
       "        [ 0.1887, -0.2315, -0.0588,  0.2360, -0.1995,  0.1330,  0.2581, -0.0552,\n",
       "          0.1616,  0.2068]], requires_grad=True)"
      ]
     },
     "execution_count": 39,
     "metadata": {},
     "output_type": "execute_result"
    }
   ],
   "source": [
    "myLayer.weight "
   ]
  },
  {
   "cell_type": "code",
   "execution_count": 40,
   "id": "2469b2eb",
   "metadata": {},
   "outputs": [
    {
     "data": {
      "text/plain": [
       "Parameter containing:\n",
       "tensor([ 0.2246, -0.2843,  0.1514, -0.1146, -0.2727], requires_grad=True)"
      ]
     },
     "execution_count": 40,
     "metadata": {},
     "output_type": "execute_result"
    }
   ],
   "source": [
    "myLayer.bias"
   ]
  },
  {
   "cell_type": "markdown",
   "id": "97f27321",
   "metadata": {},
   "source": [
    "### One Simple approach is passing the output of one layer to another layer:"
   ]
  },
  {
   "cell_type": "code",
   "execution_count": 41,
   "id": "653559ae",
   "metadata": {},
   "outputs": [
    {
     "data": {
      "text/plain": [
       "tensor([[0.3409, 0.4363]], grad_fn=<AddmmBackward0>)"
      ]
     },
     "execution_count": 41,
     "metadata": {},
     "output_type": "execute_result"
    }
   ],
   "source": [
    "myLayer1=Linear(10,5)\n",
    "myLayer2=Linear(5,2)\n",
    "myLayer2(myLayer1(inp))"
   ]
  },
  {
   "cell_type": "code",
   "execution_count": null,
   "id": "ff4c1d19",
   "metadata": {},
   "outputs": [],
   "source": []
  },
  {
   "cell_type": "markdown",
   "id": "d2e03336",
   "metadata": {},
   "source": [
    "##  Some of popular Non-Linear function in Deep Learning"
   ]
  },
  {
   "cell_type": "markdown",
   "id": "78df1390",
   "metadata": {},
   "source": [
    " * Sigmoid\n",
    " * Tanh\n",
    " * ReLU - f(x) =max(0,x)\n",
    " * Leaky ReLU\n",
    " \n",
    " \n"
   ]
  },
  {
   "cell_type": "code",
   "execution_count": 44,
   "id": "026dadf3",
   "metadata": {},
   "outputs": [
    {
     "data": {
      "text/plain": [
       "tensor([[1., 2., 0., 0.]])"
      ]
     },
     "execution_count": 44,
     "metadata": {},
     "output_type": "execute_result"
    }
   ],
   "source": [
    "#ReLu in pytorch\n",
    "sample_data = (torch.Tensor([[1,2,-1,-1]]))\n",
    "myRelu=nn.ReLU()\n",
    "myRelu(sample_data)"
   ]
  },
  {
   "cell_type": "code",
   "execution_count": null,
   "id": "b04c6b63",
   "metadata": {},
   "outputs": [],
   "source": []
  }
 ],
 "metadata": {
  "kernelspec": {
   "display_name": "Python 3 (ipykernel)",
   "language": "python",
   "name": "python3"
  },
  "language_info": {
   "codemirror_mode": {
    "name": "ipython",
    "version": 3
   },
   "file_extension": ".py",
   "mimetype": "text/x-python",
   "name": "python",
   "nbconvert_exporter": "python",
   "pygments_lexer": "ipython3",
   "version": "3.10.9"
  }
 },
 "nbformat": 4,
 "nbformat_minor": 5
}
